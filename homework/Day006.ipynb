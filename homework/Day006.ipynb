{
 "cells": [
  {
   "cell_type": "code",
   "execution_count": 2,
   "metadata": {},
   "outputs": [
    {
     "name": "stdout",
     "output_type": "stream",
     "text": [
      "27\n",
      "27\n",
      "27\n"
     ]
    }
   ],
   "source": [
    "import numpy as np\n",
    "\n",
    "#[簡答題] 請問下列這三種方法有什麼不同？\n",
    "a=np.array([1,2,3,6,7,8])\n",
    "print(a.sum())  #ndarray.sum()\n",
    "print(np.sum(a))  #numpy 的sum方法，適合處理np array\n",
    "print(sum(a))  #python 內建的sum方法。適合對list處理"
   ]
  },
  {
   "cell_type": "code",
   "execution_count": 3,
   "metadata": {},
   "outputs": [
    {
     "name": "stdout",
     "output_type": "stream",
     "text": [
      "[0.70413717 0.55264344 0.4090001  0.94515459 0.59676627 0.85253968\n",
      " 0.88082892 0.73807525 0.91878655 0.67187485 0.2044707  0.40902934\n",
      " 0.94831007 0.61702451 0.49045928 0.35889414 0.5253912  0.67909669\n",
      " 0.63914094 0.71100473 0.80540822 0.3670294  0.52822757 0.36935428\n",
      " 0.09495479 0.66986916]\n",
      "[[0.70413717 0.55264344 0.4090001  0.94515459 0.59676627]\n",
      " [0.85253968 0.88082892 0.73807525 0.91878655 0.67187485]\n",
      " [0.2044707  0.40902934 0.94831007 0.61702451 0.49045928]\n",
      " [0.35889414 0.5253912  0.67909669 0.63914094 0.71100473]\n",
      " [0.80540822 0.3670294  0.52822757 0.36935428 0.09495479]]\n"
     ]
    }
   ],
   "source": [
    "#請對一個 5x5 的隨機矩陣作正規化的操作。\n",
    "#b = np.arange(1,26)\n",
    "b= np.random.rand(26)\n",
    "print(b)\n",
    "b.resize([5,5])\n",
    "print(b)"
   ]
  },
  {
   "cell_type": "code",
   "execution_count": 4,
   "metadata": {},
   "outputs": [
    {
     "name": "stdout",
     "output_type": "stream",
     "text": [
      "[58 25 22  3 34 83 92 54 90 65]\n",
      "[58 25 22  3 34 83 -1 54 90 65]\n"
     ]
    }
   ],
   "source": [
    "#請建立一個長度等於 10 的正整數向量，並且將其中的最大值改成 -1。\n",
    "c = np.random.randint(100, size=10)\n",
    "print(c)\n",
    "np.argmax(c)\n",
    "c[np.argmax(c)] = -1\n",
    "print(c)"
   ]
  },
  {
   "cell_type": "code",
   "execution_count": null,
   "metadata": {},
   "outputs": [],
   "source": []
  }
 ],
 "metadata": {
  "kernelspec": {
   "display_name": "Python 3",
   "language": "python",
   "name": "python3"
  },
  "language_info": {
   "codemirror_mode": {
    "name": "ipython",
    "version": 3
   },
   "file_extension": ".py",
   "mimetype": "text/x-python",
   "name": "python",
   "nbconvert_exporter": "python",
   "pygments_lexer": "ipython3",
   "version": "3.8.5"
  }
 },
 "nbformat": 4,
 "nbformat_minor": 4
}
