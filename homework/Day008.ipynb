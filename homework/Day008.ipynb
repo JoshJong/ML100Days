{
 "cells": [
  {
   "cell_type": "code",
   "execution_count": 3,
   "metadata": {},
   "outputs": [],
   "source": [
    "#請問 Pandas 套件最主要的貢獻是什麼？\n",
    "# dataframe"
   ]
  },
  {
   "cell_type": "code",
   "execution_count": 4,
   "metadata": {},
   "outputs": [
    {
     "name": "stdout",
     "output_type": "stream",
     "text": [
      "shape:  (2, 7)\n",
      "size:  14\n",
      "values:  [[ 2  3  4  5  6  7  8]\n",
      " [12 13 14 15 16 17 18]]\n",
      "index:  RangeIndex(start=0, stop=2, step=1)\n",
      "columns:  RangeIndex(start=0, stop=7, step=1)\n",
      "dtypes:  0    int64\n",
      "1    int64\n",
      "2    int64\n",
      "3    int64\n",
      "4    int64\n",
      "5    int64\n",
      "6    int64\n",
      "dtype: object\n",
      "len:  2\n"
     ]
    }
   ],
   "source": [
    "#根據提供的資料集，印出他們的屬性分別為何？\n",
    "#（屬性：shape、size、values、index、columns、dtypes、len）\n",
    "import pandas as pd\n",
    "df = pd.DataFrame([[2,3,4,5,6,7,8],[12,13,14,15,16,17,18]] )\n",
    "#print(df)\n",
    "\n",
    "print('shape:  ' + str(df.shape))\n",
    "print('size:  ' + str(df.size))\n",
    "print('values:  ' + str(df.values))\n",
    "print('index:  ' + str(df.index))\n",
    "print('columns:  ' + str(df.columns))\n",
    "print('dtypes:  ' + str(df.dtypes))\n",
    "print('len:  ' + str(len(df)))"
   ]
  },
  {
   "cell_type": "code",
   "execution_count": null,
   "metadata": {},
   "outputs": [],
   "source": []
  }
 ],
 "metadata": {
  "kernelspec": {
   "display_name": "Python 3",
   "language": "python",
   "name": "python3"
  },
  "language_info": {
   "codemirror_mode": {
    "name": "ipython",
    "version": 3
   },
   "file_extension": ".py",
   "mimetype": "text/x-python",
   "name": "python",
   "nbconvert_exporter": "python",
   "pygments_lexer": "ipython3",
   "version": "3.8.5"
  }
 },
 "nbformat": 4,
 "nbformat_minor": 4
}
