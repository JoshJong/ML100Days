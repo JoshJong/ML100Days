{
 "cells": [
  {
   "cell_type": "code",
   "execution_count": 1,
   "metadata": {},
   "outputs": [
    {
     "name": "stdout",
     "output_type": "stream",
     "text": [
      "<class 'list'>\n",
      "[1 2 3 4 5 6]\n",
      "<class 'numpy.ndarray'>\n",
      "int64\n",
      "[1. 2. 3. 4. 5. 6.]\n",
      "<class 'numpy.ndarray'>\n",
      "float64\n"
     ]
    }
   ],
   "source": [
    "#Q1. type(), dtype\n",
    "import numpy as np\n",
    "\n",
    "a=[1,2,3]\n",
    "print(type(a))\n",
    "#print(a.dtype)\n",
    "\n",
    "b=np.array([1,2,3,4,5,6])\n",
    "print(b)\n",
    "print(type(b))\n",
    "print(b.dtype)\n",
    "\n",
    "dt=np.dtype('<f8')\n",
    "c=np.array([1,2,3,4,5,6],dtype=dt)\n",
    "print(c)\n",
    "print(type(c))\n",
    "print(c.dtype)"
   ]
  },
  {
   "cell_type": "code",
   "execution_count": 2,
   "metadata": {},
   "outputs": [
    {
     "name": "stdout",
     "output_type": "stream",
     "text": [
      "<U7\n",
      "True\n",
      "True\n",
      "True\n"
     ]
    }
   ],
   "source": [
    "#Q2\n",
    "import numpy as np\n",
    "text_array = np.array(['John','Jhonny','Jackson'])\n",
    "print(text_array.dtype)\n",
    "dt=np.dtype('<U7')\n",
    "\n",
    "def checktype(a,d):\n",
    "    print(a.dtype == np.dtype(d))\n",
    "\n",
    "checktype(text_array, '<U7')\n",
    "checktype(text_array, dt)\n",
    "checktype(np.array([1,2,3,4,5]),'int')"
   ]
  },
  {
   "cell_type": "code",
   "execution_count": 3,
   "metadata": {},
   "outputs": [],
   "source": [
    "#Q3\n",
    "#3\n",
    "#type(a) is np.dtype(dt) is wrong"
   ]
  },
  {
   "cell_type": "code",
   "execution_count": null,
   "metadata": {},
   "outputs": [],
   "source": []
  }
 ],
 "metadata": {
  "kernelspec": {
   "display_name": "Python 3",
   "language": "python",
   "name": "python3"
  },
  "language_info": {
   "codemirror_mode": {
    "name": "ipython",
    "version": 3
   },
   "file_extension": ".py",
   "mimetype": "text/x-python",
   "name": "python",
   "nbconvert_exporter": "python",
   "pygments_lexer": "ipython3",
   "version": "3.8.5"
  }
 },
 "nbformat": 4,
 "nbformat_minor": 4
}
