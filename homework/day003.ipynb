{
 "cells": [
  {
   "cell_type": "code",
   "execution_count": 1,
   "metadata": {},
   "outputs": [
    {
     "name": "stdout",
     "output_type": "stream",
     "text": [
      "[[0. 0. 0.]\n",
      " [0. 0. 0.]]\n",
      "[[ 1.28822975e-231 -4.34144305e-311  4.96964875e+223  2.55390526e-081]\n",
      " [ 1.49460942e+195  9.17796746e+199  1.92526837e+161  3.65881474e+233]\n",
      " [ 1.38519249e+219  3.13482157e-086  1.00116594e-312  8.34404900e-309]]\n"
     ]
    }
   ],
   "source": [
    "import numpy as np\n",
    "print(np.zeros((2,3))) # set all memory value to 0, and it's faster\n",
    "print(np.empty((3,4))) # memory uninitialized"
   ]
  },
  {
   "cell_type": "code",
   "execution_count": 2,
   "metadata": {},
   "outputs": [
    {
     "name": "stdout",
     "output_type": "stream",
     "text": [
      "[[ 0.26135477  9.60912585 86.81662627 54.79685534 37.8536578 ]\n",
      " [25.72632052 33.09270548  2.33782277 43.04035163 10.06465593]\n",
      " [56.12396558 85.65689649 41.10975017 70.60480067 67.04880929]\n",
      " [92.29121711 30.14570894 59.8795754  68.4786995  94.93196012]\n",
      " [36.93526166  0.33922759 73.45737381 19.67363899 37.03779953]]\n",
      "[[ 0  9 86 54 37]\n",
      " [25 33  2 43 10]\n",
      " [56 85 41 70 67]\n",
      " [92 30 59 68 94]\n",
      " [36  0 73 19 37]]\n"
     ]
    }
   ],
   "source": [
    "#a = np.arange(1.1,99.7,2.3)\n",
    "#print(a)\n",
    "#print(a.astype('int'))\n",
    "\n",
    "\n",
    "from numpy.random import default_rng\n",
    "rng = default_rng()\n",
    "randomm = rng.random((5,5))*100\n",
    "print(randomm)\n",
    "print(randomm.astype('int'))"
   ]
  },
  {
   "cell_type": "code",
   "execution_count": 3,
   "metadata": {},
   "outputs": [
    {
     "name": "stdout",
     "output_type": "stream",
     "text": [
      "[[8 5 8 8 7]\n",
      " [6 7 5 6 5]\n",
      " [8 5 7 7 6]\n",
      " [7 8 9 8 7]\n",
      " [6 7 8 5 6]]\n"
     ]
    }
   ],
   "source": [
    "from numpy.random import default_rng\n",
    "rng = default_rng()\n",
    "randommm = rng.integers(5, 10, size=(5,5))\n",
    "\n",
    "print(randommm)"
   ]
  },
  {
   "cell_type": "code",
   "execution_count": null,
   "metadata": {},
   "outputs": [],
   "source": []
  }
 ],
 "metadata": {
  "kernelspec": {
   "display_name": "Python 3",
   "language": "python",
   "name": "python3"
  },
  "language_info": {
   "codemirror_mode": {
    "name": "ipython",
    "version": 3
   },
   "file_extension": ".py",
   "mimetype": "text/x-python",
   "name": "python",
   "nbconvert_exporter": "python",
   "pygments_lexer": "ipython3",
   "version": "3.8.5"
  }
 },
 "nbformat": 4,
 "nbformat_minor": 4
}
