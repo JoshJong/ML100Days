{
 "cells": [
  {
   "cell_type": "code",
   "execution_count": 3,
   "metadata": {},
   "outputs": [
    {
     "name": "stdout",
     "output_type": "stream",
     "text": [
      "[array([1, 2, 3]), array([1, 3, 5]), array([3, 3, 3])]\n",
      "[[1, 2, 3], [1, 3, 5], [3, 3, 3]]\n"
     ]
    }
   ],
   "source": [
    "# Questions:\n",
    "\n",
    "#1\n",
    "import numpy as np\n",
    "x = np.array([[1,2,3],[1,3,5],[3,3,3]])\n",
    "print(list(x))\n",
    "print(x.tolist())"
   ]
  },
  {
   "cell_type": "code",
   "execution_count": 2,
   "metadata": {},
   "outputs": [
    {
     "name": "stdout",
     "output_type": "stream",
     "text": [
      "a: ndim shape size dtype itemsize data\n",
      "[8 4 1 2 6 1]\n",
      "1\n",
      "(6,)\n",
      "6\n",
      "int64\n",
      "8\n",
      "<memory at 0x10fe0fc40>\n",
      "b: ndim shape size dtype itemsize data\n",
      "[[4 5 7 7]\n",
      " [0 3 6 3]\n",
      " [1 8 9 0]]\n",
      "2\n",
      "(3, 4)\n",
      "12\n",
      "int64\n",
      "8\n",
      "<memory at 0x111b6d6c0>\n",
      "c: ndim shape size dtype itemsize data\n",
      "[[[3 1]\n",
      "  [3 8]\n",
      "  [5 9]]\n",
      "\n",
      " [[6 1]\n",
      "  [7 1]\n",
      "  [1 1]]]\n",
      "3\n",
      "(2, 3, 2)\n",
      "12\n",
      "int64\n",
      "8\n",
      "<memory at 0x10feaf4f0>\n"
     ]
    }
   ],
   "source": [
    "#2\n",
    "#ndarray.itemsize： 陣列中每個元素佔用的空間\n",
    "#ndarray.data： 陣列所存在的記憶體位置\n",
    "a=np.random.randint(10,size=6)\n",
    "b=np.random.randint(10,size=(3,4))\n",
    "c=np.random.randint(10,size=(2,3,2))\n",
    "print( 'a: ndim shape size dtype itemsize data')\n",
    "print(a)\n",
    "print(a.ndim)\n",
    "print(a.shape)\n",
    "print(a.size)\n",
    "print(a.dtype)\n",
    "print(a.itemsize)\n",
    "print(a.data)\n",
    "print( 'b: ndim shape size dtype itemsize data')\n",
    "print(b)\n",
    "print(b.ndim)\n",
    "print(b.shape)\n",
    "print(b.size)\n",
    "print(b.dtype)\n",
    "print(b.itemsize)\n",
    "print(b.data)\n",
    "print( 'c: ndim shape size dtype itemsize data')\n",
    "print(c)\n",
    "print(c.ndim)\n",
    "print(c.shape)\n",
    "print(c.size)\n",
    "print(c.dtype)\n",
    "print(c.itemsize)\n",
    "print(c.data)"
   ]
  },
  {
   "cell_type": "code",
   "execution_count": 4,
   "metadata": {},
   "outputs": [
    {
     "name": "stdout",
     "output_type": "stream",
     "text": [
      "[8 4 1 2 6 1]\n",
      "[8, 4, 1, 2, 6, 1]\n",
      "[[4 5 7 7]\n",
      " [0 3 6 3]\n",
      " [1 8 9 0]]\n",
      "[[4, 5, 7, 7], [0, 3, 6, 3], [1, 8, 9, 0]]\n",
      "[[[3 1]\n",
      "  [3 8]\n",
      "  [5 9]]\n",
      "\n",
      " [[6 1]\n",
      "  [7 1]\n",
      "  [1 1]]]\n",
      "[[[3, 1], [3, 8], [5, 9]], [[6, 1], [7, 1], [1, 1]]]\n"
     ]
    }
   ],
   "source": [
    "#q3\n",
    "def tolist(iterable):\n",
    "  if type(iterable) != np.ndarray:  \n",
    "      return iterable\n",
    "  newlist=[]\n",
    "  for obj in iterable:\n",
    "      newlist.append(tolist(obj))\n",
    "  return list(newlist)\n",
    "\n",
    "print(a)\n",
    "print(tolist(tolist(a)))\n",
    "print(b)\n",
    "print(tolist(tolist(b)))\n",
    "print(c)\n",
    "print(tolist(tolist(c)))\n"
   ]
  },
  {
   "cell_type": "code",
   "execution_count": null,
   "metadata": {},
   "outputs": [],
   "source": []
  }
 ],
 "metadata": {
  "kernelspec": {
   "display_name": "Python 3",
   "language": "python",
   "name": "python3"
  },
  "language_info": {
   "codemirror_mode": {
    "name": "ipython",
    "version": 3
   },
   "file_extension": ".py",
   "mimetype": "text/x-python",
   "name": "python",
   "nbconvert_exporter": "python",
   "pygments_lexer": "ipython3",
   "version": "3.8.5"
  }
 },
 "nbformat": 4,
 "nbformat_minor": 4
}
