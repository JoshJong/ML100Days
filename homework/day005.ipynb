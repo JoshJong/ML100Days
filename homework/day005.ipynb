{
 "cells": [
  {
   "cell_type": "code",
   "execution_count": 2,
   "metadata": {},
   "outputs": [],
   "source": [
    "import numpy as np"
   ]
  },
  {
   "cell_type": "code",
   "execution_count": 3,
   "metadata": {},
   "outputs": [
    {
     "name": "stdout",
     "output_type": "stream",
     "text": [
      "[ 0  1  2  3  4  5  6  7  8  9 10 11]\n",
      "[ 0  1  2 -3 -4 -5 -6  7  8  9 10 11]\n"
     ]
    }
   ],
   "source": [
    "#產生一個 1-11 的一維陣列，並且把 3-6 由正數變成負數。\n",
    "a=np.arange(12)\n",
    "print(a)\n",
    "\n",
    "for i in range(3,7):    \n",
    "    a[a==i] = -1 * a[a==i] \n",
    "\n",
    "print(a)"
   ]
  },
  {
   "cell_type": "code",
   "execution_count": 4,
   "metadata": {},
   "outputs": [
    {
     "name": "stdout",
     "output_type": "stream",
     "text": [
      "[0.5 0.3 0.4 0.9 0.6 0.  0.8 0.8 0.9 0.7 0.5 0.1 0.8 0.7 0.4 0.  0.8 0.2\n",
      " 0.7 0.8]\n",
      "[0.9 0.6 0.8 0.8 0.9 0.7 0.8 0.7 0.8 0.7 0.8]\n",
      "11\n"
     ]
    }
   ],
   "source": [
    "#試著從一個隨機陣列中，找出比 0.5 大的數有幾個？\n",
    "x= np.random.randint(10,size=20)\n",
    "x=x/10\n",
    "print(x)\n",
    "print(x[x>0.5])\n",
    "print(len(x[x>0.5]))"
   ]
  },
  {
   "cell_type": "code",
   "execution_count": null,
   "metadata": {},
   "outputs": [],
   "source": []
  }
 ],
 "metadata": {
  "kernelspec": {
   "display_name": "Python 3",
   "language": "python",
   "name": "python3"
  },
  "language_info": {
   "codemirror_mode": {
    "name": "ipython",
    "version": 3
   },
   "file_extension": ".py",
   "mimetype": "text/x-python",
   "name": "python",
   "nbconvert_exporter": "python",
   "pygments_lexer": "ipython3",
   "version": "3.8.5"
  }
 },
 "nbformat": 4,
 "nbformat_minor": 4
}
